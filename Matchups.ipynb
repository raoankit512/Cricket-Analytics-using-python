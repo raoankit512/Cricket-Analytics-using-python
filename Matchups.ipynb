{
 "cells": [
  {
   "cell_type": "code",
   "execution_count": 1,
   "id": "14dc0bdb",
   "metadata": {},
   "outputs": [],
   "source": [
    "import warnings\n",
    "warnings.filterwarnings('ignore')\n",
    "\n",
    "import pandas as pd\n",
    "import numpy as np\n",
    "import matplotlib.pyplot as plt\n",
    "pd.set_option('display.max_rows', None)\n",
    "pd.set_option('display.max_columns', None)\n",
    "pd.set_option('display.expand_frame_repr', False)\n",
    "pd.set_option('max_colwidth', -1)"
   ]
  },
  {
   "cell_type": "code",
   "execution_count": 3,
   "id": "735502d8",
   "metadata": {},
   "outputs": [
    {
     "data": {
      "text/html": [
       "<div>\n",
       "<style scoped>\n",
       "    .dataframe tbody tr th:only-of-type {\n",
       "        vertical-align: middle;\n",
       "    }\n",
       "\n",
       "    .dataframe tbody tr th {\n",
       "        vertical-align: top;\n",
       "    }\n",
       "\n",
       "    .dataframe thead th {\n",
       "        text-align: right;\n",
       "    }\n",
       "</style>\n",
       "<table border=\"1\" class=\"dataframe\">\n",
       "  <thead>\n",
       "    <tr style=\"text-align: right;\">\n",
       "      <th></th>\n",
       "      <th>match_id</th>\n",
       "      <th>season</th>\n",
       "      <th>start_date</th>\n",
       "      <th>venue</th>\n",
       "      <th>innings</th>\n",
       "      <th>ball</th>\n",
       "      <th>batting_team</th>\n",
       "      <th>bowling_team</th>\n",
       "      <th>striker</th>\n",
       "      <th>non_striker</th>\n",
       "      <th>bowler</th>\n",
       "      <th>runs_off_bat</th>\n",
       "      <th>extras</th>\n",
       "      <th>wides</th>\n",
       "      <th>noballs</th>\n",
       "      <th>byes</th>\n",
       "      <th>legbyes</th>\n",
       "      <th>penalty</th>\n",
       "      <th>wicket_type</th>\n",
       "      <th>player_dismissed</th>\n",
       "      <th>other_wicket_type</th>\n",
       "      <th>other_player_dismissed</th>\n",
       "    </tr>\n",
       "  </thead>\n",
       "  <tbody>\n",
       "    <tr>\n",
       "      <th>0</th>\n",
       "      <td>335982</td>\n",
       "      <td>2008</td>\n",
       "      <td>2008-04-18</td>\n",
       "      <td>M Chinnaswamy Stadium</td>\n",
       "      <td>1</td>\n",
       "      <td>0.1</td>\n",
       "      <td>Kolkata Knight Riders</td>\n",
       "      <td>Royal Challengers Bangalore</td>\n",
       "      <td>SC Ganguly</td>\n",
       "      <td>BB McCullum</td>\n",
       "      <td>P Kumar</td>\n",
       "      <td>0</td>\n",
       "      <td>1</td>\n",
       "      <td>NaN</td>\n",
       "      <td>NaN</td>\n",
       "      <td>NaN</td>\n",
       "      <td>1.0</td>\n",
       "      <td>NaN</td>\n",
       "      <td>NaN</td>\n",
       "      <td>NaN</td>\n",
       "      <td>NaN</td>\n",
       "      <td>NaN</td>\n",
       "    </tr>\n",
       "    <tr>\n",
       "      <th>1</th>\n",
       "      <td>335982</td>\n",
       "      <td>2008</td>\n",
       "      <td>2008-04-18</td>\n",
       "      <td>M Chinnaswamy Stadium</td>\n",
       "      <td>2</td>\n",
       "      <td>3.1</td>\n",
       "      <td>Royal Challengers Bangalore</td>\n",
       "      <td>Kolkata Knight Riders</td>\n",
       "      <td>W Jaffer</td>\n",
       "      <td>JH Kallis</td>\n",
       "      <td>I Sharma</td>\n",
       "      <td>2</td>\n",
       "      <td>0</td>\n",
       "      <td>NaN</td>\n",
       "      <td>NaN</td>\n",
       "      <td>NaN</td>\n",
       "      <td>NaN</td>\n",
       "      <td>NaN</td>\n",
       "      <td>NaN</td>\n",
       "      <td>NaN</td>\n",
       "      <td>NaN</td>\n",
       "      <td>NaN</td>\n",
       "    </tr>\n",
       "    <tr>\n",
       "      <th>2</th>\n",
       "      <td>335982</td>\n",
       "      <td>2008</td>\n",
       "      <td>2008-04-18</td>\n",
       "      <td>M Chinnaswamy Stadium</td>\n",
       "      <td>2</td>\n",
       "      <td>3.2</td>\n",
       "      <td>Royal Challengers Bangalore</td>\n",
       "      <td>Kolkata Knight Riders</td>\n",
       "      <td>W Jaffer</td>\n",
       "      <td>JH Kallis</td>\n",
       "      <td>I Sharma</td>\n",
       "      <td>1</td>\n",
       "      <td>0</td>\n",
       "      <td>NaN</td>\n",
       "      <td>NaN</td>\n",
       "      <td>NaN</td>\n",
       "      <td>NaN</td>\n",
       "      <td>NaN</td>\n",
       "      <td>NaN</td>\n",
       "      <td>NaN</td>\n",
       "      <td>NaN</td>\n",
       "      <td>NaN</td>\n",
       "    </tr>\n",
       "  </tbody>\n",
       "</table>\n",
       "</div>"
      ],
      "text/plain": [
       "   match_id  season  start_date                  venue  innings  ball                 batting_team                 bowling_team     striker  non_striker    bowler  runs_off_bat  extras  wides  noballs  byes  legbyes  penalty wicket_type player_dismissed  other_wicket_type  other_player_dismissed\n",
       "0  335982    2008    2008-04-18  M Chinnaswamy Stadium  1        0.1   Kolkata Knight Riders        Royal Challengers Bangalore  SC Ganguly  BB McCullum  P Kumar   0             1      NaN    NaN      NaN    1.0     NaN       NaN         NaN             NaN                NaN                    \n",
       "1  335982    2008    2008-04-18  M Chinnaswamy Stadium  2        3.1   Royal Challengers Bangalore  Kolkata Knight Riders        W Jaffer    JH Kallis    I Sharma  2             0      NaN    NaN      NaN   NaN      NaN       NaN         NaN             NaN                NaN                    \n",
       "2  335982    2008    2008-04-18  M Chinnaswamy Stadium  2        3.2   Royal Challengers Bangalore  Kolkata Knight Riders        W Jaffer    JH Kallis    I Sharma  1             0      NaN    NaN      NaN   NaN      NaN       NaN         NaN             NaN                NaN                    "
      ]
     },
     "execution_count": 3,
     "metadata": {},
     "output_type": "execute_result"
    }
   ],
   "source": [
    "df = pd.read_csv(\"ipl_ball_by_ball_data.csv\")\n",
    "df.head(3)"
   ]
  },
  {
   "cell_type": "code",
   "execution_count": 4,
   "id": "aff38ba7",
   "metadata": {},
   "outputs": [
    {
     "data": {
      "text/html": [
       "<div>\n",
       "<style scoped>\n",
       "    .dataframe tbody tr th:only-of-type {\n",
       "        vertical-align: middle;\n",
       "    }\n",
       "\n",
       "    .dataframe tbody tr th {\n",
       "        vertical-align: top;\n",
       "    }\n",
       "\n",
       "    .dataframe thead th {\n",
       "        text-align: right;\n",
       "    }\n",
       "</style>\n",
       "<table border=\"1\" class=\"dataframe\">\n",
       "  <thead>\n",
       "    <tr style=\"text-align: right;\">\n",
       "      <th></th>\n",
       "      <th>match_id</th>\n",
       "      <th>season</th>\n",
       "      <th>start_date</th>\n",
       "      <th>venue</th>\n",
       "      <th>innings</th>\n",
       "      <th>ball</th>\n",
       "      <th>batting_team</th>\n",
       "      <th>bowling_team</th>\n",
       "      <th>striker</th>\n",
       "      <th>non_striker</th>\n",
       "      <th>bowler</th>\n",
       "      <th>runs_off_bat</th>\n",
       "      <th>extras</th>\n",
       "      <th>wides</th>\n",
       "      <th>noballs</th>\n",
       "      <th>byes</th>\n",
       "      <th>legbyes</th>\n",
       "      <th>penalty</th>\n",
       "      <th>wicket_type</th>\n",
       "      <th>player_dismissed</th>\n",
       "      <th>other_wicket_type</th>\n",
       "      <th>other_player_dismissed</th>\n",
       "    </tr>\n",
       "  </thead>\n",
       "  <tbody>\n",
       "    <tr>\n",
       "      <th>200658</th>\n",
       "      <td>1254085</td>\n",
       "      <td>2021</td>\n",
       "      <td>2021-05-02</td>\n",
       "      <td>Arun Jaitley Stadium, Delhi</td>\n",
       "      <td>2</td>\n",
       "      <td>4.3</td>\n",
       "      <td>Sunrisers Hyderabad</td>\n",
       "      <td>Rajasthan Royals</td>\n",
       "      <td>MK Pandey</td>\n",
       "      <td>JM Bairstow</td>\n",
       "      <td>Kartik Tyagi</td>\n",
       "      <td>0</td>\n",
       "      <td>1</td>\n",
       "      <td>1.0</td>\n",
       "      <td>NaN</td>\n",
       "      <td>NaN</td>\n",
       "      <td>NaN</td>\n",
       "      <td>NaN</td>\n",
       "      <td>NaN</td>\n",
       "      <td>NaN</td>\n",
       "      <td>NaN</td>\n",
       "      <td>NaN</td>\n",
       "    </tr>\n",
       "    <tr>\n",
       "      <th>200659</th>\n",
       "      <td>1254085</td>\n",
       "      <td>2021</td>\n",
       "      <td>2021-05-02</td>\n",
       "      <td>Arun Jaitley Stadium, Delhi</td>\n",
       "      <td>2</td>\n",
       "      <td>4.2</td>\n",
       "      <td>Sunrisers Hyderabad</td>\n",
       "      <td>Rajasthan Royals</td>\n",
       "      <td>MK Pandey</td>\n",
       "      <td>JM Bairstow</td>\n",
       "      <td>Kartik Tyagi</td>\n",
       "      <td>6</td>\n",
       "      <td>0</td>\n",
       "      <td>NaN</td>\n",
       "      <td>NaN</td>\n",
       "      <td>NaN</td>\n",
       "      <td>NaN</td>\n",
       "      <td>NaN</td>\n",
       "      <td>NaN</td>\n",
       "      <td>NaN</td>\n",
       "      <td>NaN</td>\n",
       "      <td>NaN</td>\n",
       "    </tr>\n",
       "    <tr>\n",
       "      <th>200660</th>\n",
       "      <td>1254085</td>\n",
       "      <td>2021</td>\n",
       "      <td>2021-05-02</td>\n",
       "      <td>Arun Jaitley Stadium, Delhi</td>\n",
       "      <td>2</td>\n",
       "      <td>4.1</td>\n",
       "      <td>Sunrisers Hyderabad</td>\n",
       "      <td>Rajasthan Royals</td>\n",
       "      <td>MK Pandey</td>\n",
       "      <td>JM Bairstow</td>\n",
       "      <td>Kartik Tyagi</td>\n",
       "      <td>0</td>\n",
       "      <td>0</td>\n",
       "      <td>NaN</td>\n",
       "      <td>NaN</td>\n",
       "      <td>NaN</td>\n",
       "      <td>NaN</td>\n",
       "      <td>NaN</td>\n",
       "      <td>NaN</td>\n",
       "      <td>NaN</td>\n",
       "      <td>NaN</td>\n",
       "      <td>NaN</td>\n",
       "    </tr>\n",
       "    <tr>\n",
       "      <th>200661</th>\n",
       "      <td>1254085</td>\n",
       "      <td>2021</td>\n",
       "      <td>2021-05-02</td>\n",
       "      <td>Arun Jaitley Stadium, Delhi</td>\n",
       "      <td>2</td>\n",
       "      <td>8.4</td>\n",
       "      <td>Sunrisers Hyderabad</td>\n",
       "      <td>Rajasthan Royals</td>\n",
       "      <td>KS Williamson</td>\n",
       "      <td>V Shankar</td>\n",
       "      <td>C Sakariya</td>\n",
       "      <td>1</td>\n",
       "      <td>0</td>\n",
       "      <td>NaN</td>\n",
       "      <td>NaN</td>\n",
       "      <td>NaN</td>\n",
       "      <td>NaN</td>\n",
       "      <td>NaN</td>\n",
       "      <td>NaN</td>\n",
       "      <td>NaN</td>\n",
       "      <td>NaN</td>\n",
       "      <td>NaN</td>\n",
       "    </tr>\n",
       "    <tr>\n",
       "      <th>200662</th>\n",
       "      <td>1254086</td>\n",
       "      <td>2021</td>\n",
       "      <td>2021-05-02</td>\n",
       "      <td>Narendra Modi Stadium, Ahmedabad</td>\n",
       "      <td>2</td>\n",
       "      <td>17.6</td>\n",
       "      <td>Delhi Capitals</td>\n",
       "      <td>Punjab Kings</td>\n",
       "      <td>SO Hetmyer</td>\n",
       "      <td>S Dhawan</td>\n",
       "      <td>RP Meredith</td>\n",
       "      <td>0</td>\n",
       "      <td>1</td>\n",
       "      <td>1.0</td>\n",
       "      <td>NaN</td>\n",
       "      <td>NaN</td>\n",
       "      <td>NaN</td>\n",
       "      <td>NaN</td>\n",
       "      <td>NaN</td>\n",
       "      <td>NaN</td>\n",
       "      <td>NaN</td>\n",
       "      <td>NaN</td>\n",
       "    </tr>\n",
       "  </tbody>\n",
       "</table>\n",
       "</div>"
      ],
      "text/plain": [
       "        match_id  season  start_date                             venue  innings  ball         batting_team      bowling_team        striker  non_striker        bowler  runs_off_bat  extras  wides  noballs  byes  legbyes  penalty wicket_type player_dismissed  other_wicket_type  other_player_dismissed\n",
       "200658  1254085   2021    2021-05-02  Arun Jaitley Stadium, Delhi       2        4.3   Sunrisers Hyderabad  Rajasthan Royals  MK Pandey      JM Bairstow  Kartik Tyagi  0             1       1.0   NaN      NaN   NaN      NaN       NaN         NaN             NaN                NaN                    \n",
       "200659  1254085   2021    2021-05-02  Arun Jaitley Stadium, Delhi       2        4.2   Sunrisers Hyderabad  Rajasthan Royals  MK Pandey      JM Bairstow  Kartik Tyagi  6             0      NaN    NaN      NaN   NaN      NaN       NaN         NaN             NaN                NaN                    \n",
       "200660  1254085   2021    2021-05-02  Arun Jaitley Stadium, Delhi       2        4.1   Sunrisers Hyderabad  Rajasthan Royals  MK Pandey      JM Bairstow  Kartik Tyagi  0             0      NaN    NaN      NaN   NaN      NaN       NaN         NaN             NaN                NaN                    \n",
       "200661  1254085   2021    2021-05-02  Arun Jaitley Stadium, Delhi       2        8.4   Sunrisers Hyderabad  Rajasthan Royals  KS Williamson  V Shankar    C Sakariya    1             0      NaN    NaN      NaN   NaN      NaN       NaN         NaN             NaN                NaN                    \n",
       "200662  1254086   2021    2021-05-02  Narendra Modi Stadium, Ahmedabad  2        17.6  Delhi Capitals       Punjab Kings      SO Hetmyer     S Dhawan     RP Meredith   0             1       1.0   NaN      NaN   NaN      NaN       NaN         NaN             NaN                NaN                    "
      ]
     },
     "execution_count": 4,
     "metadata": {},
     "output_type": "execute_result"
    }
   ],
   "source": [
    "df.tail()"
   ]
  },
  {
   "cell_type": "code",
   "execution_count": 8,
   "id": "f49aa273",
   "metadata": {},
   "outputs": [
    {
     "data": {
      "text/plain": [
       "array([1, 2, 4, 3, 5, 6], dtype=int64)"
      ]
     },
     "execution_count": 8,
     "metadata": {},
     "output_type": "execute_result"
    }
   ],
   "source": [
    "df['innings'].unique()"
   ]
  },
  {
   "cell_type": "code",
   "execution_count": 9,
   "id": "0e93bcd9",
   "metadata": {},
   "outputs": [],
   "source": [
    "df = df[(df['innings'] == 1) | (df['innings'] == 2)]"
   ]
  },
  {
   "cell_type": "code",
   "execution_count": 10,
   "id": "fa912fca",
   "metadata": {},
   "outputs": [
    {
     "data": {
      "text/plain": [
       "array([1, 2], dtype=int64)"
      ]
     },
     "execution_count": 10,
     "metadata": {},
     "output_type": "execute_result"
    }
   ],
   "source": [
    "df['innings'].unique()"
   ]
  },
  {
   "cell_type": "code",
   "execution_count": 11,
   "id": "614b2662",
   "metadata": {},
   "outputs": [],
   "source": [
    "# data when ABD faces Bumrah"
   ]
  },
  {
   "cell_type": "code",
   "execution_count": 12,
   "id": "7a2d24ad",
   "metadata": {},
   "outputs": [
    {
     "data": {
      "text/plain": [
       "array(['Royal Challengers Bangalore', 'Kolkata Knight Riders',\n",
       "       'Delhi Daredevils', 'Chennai Super Kings', 'Rajasthan Royals',\n",
       "       'Kings XI Punjab', 'Deccan Chargers', 'Mumbai Indians',\n",
       "       'Kochi Tuskers Kerala', 'Pune Warriors', 'Sunrisers Hyderabad',\n",
       "       'Rising Pune Supergiants', 'Gujarat Lions',\n",
       "       'Rising Pune Supergiant', 'Delhi Capitals', 'Punjab Kings'],\n",
       "      dtype=object)"
      ]
     },
     "execution_count": 12,
     "metadata": {},
     "output_type": "execute_result"
    }
   ],
   "source": [
    "df[\"bowling_team\"].unique()"
   ]
  },
  {
   "cell_type": "code",
   "execution_count": 13,
   "id": "9426871e",
   "metadata": {},
   "outputs": [
    {
     "data": {
      "text/plain": [
       "array(['DS Kulkarni', 'A Nehra', 'AM Nayar', 'Harbhajan Singh',\n",
       "       'ST Jayasuriya', 'SM Pollock', 'MA Khote', 'DJ Bravo',\n",
       "       'VS Yeligati', 'SD Chitnis', 'CRD Fernando', 'DJ Thornely',\n",
       "       'RR Raje', 'DR Smith', 'A Nel', 'SL Malinga', 'Z Khan',\n",
       "       'SR Tendulkar', 'JP Duminy', 'GR Napier', 'C Nanda', 'AM Rahane',\n",
       "       'RA Shaikh', 'R McLaren', 'R Sathish', 'AG Murtaza', 'KA Pollard',\n",
       "       'AN Ahmed', 'STR Binny', 'MM Patel', 'JEC Franklin', 'RG Sharma',\n",
       "       'A Symonds', 'TL Suman', 'RW Price', 'PP Ojha', 'RP Singh',\n",
       "       'CJ McKay', 'NLTC Perera', 'RJ Peterson', 'R Shukla', 'JDP Oram',\n",
       "       'JJ Bumrah', 'MG Johnson', 'R Dhawan', 'YS Chahal', 'P Suyal',\n",
       "       'GJ Maxwell', 'NM Coulter-Nile', 'CJ Anderson', 'P Kumar',\n",
       "       'LMP Simmons', 'S Gopal', 'K Santokie', 'M de Lange',\n",
       "       'R Vinay Kumar', 'J Suchith', 'MJ McClenaghan', 'HH Pandya',\n",
       "       'TG Southee', 'KH Pandya', 'N Rana', 'KV Sharma', 'M Markande',\n",
       "       'Mustafizur Rahman', 'PJ Sangwan', 'BCJ Cutting', 'A Dananjaya',\n",
       "       'Rasikh Salam', 'RD Chahar', 'JP Behrendorff', 'AS Joseph',\n",
       "       'J Yadav', 'AS Roy', 'BB Sran', 'TA Boult', 'JL Pattinson',\n",
       "       'M Jansen', 'AF Milne', 'JDS Neesham'], dtype=object)"
      ]
     },
     "execution_count": 13,
     "metadata": {},
     "output_type": "execute_result"
    }
   ],
   "source": [
    "df[df[\"bowling_team\"] == \"Mumbai Indians\"]['bowler'].unique()"
   ]
  },
  {
   "cell_type": "code",
   "execution_count": 15,
   "id": "322262da",
   "metadata": {},
   "outputs": [],
   "source": [
    "#bowler = JJ Bumrah\n",
    "# striker = AB de Villiers"
   ]
  },
  {
   "cell_type": "code",
   "execution_count": 16,
   "id": "46745ac8",
   "metadata": {
    "collapsed": true
   },
   "outputs": [
    {
     "data": {
      "text/plain": [
       "array(['W Jaffer', 'JH Kallis', 'CL White', 'MV Boucher', 'R Dravid',\n",
       "       'V Kohli', 'P Kumar', 'Z Khan', 'SB Joshi', 'AA Noffke', 'B Akhil',\n",
       "       'LRPL Taylor', 'S Chanderpaul', 'R Vinay Kumar', 'DW Steyn',\n",
       "       'B Chipli', 'Misbah-ul-Haq', 'DT Patil', 'A Kumble', 'J Arunkumar',\n",
       "       'Abdur Razzak', 'SP Goswami', 'KP Pietersen', 'RV Uthappa',\n",
       "       'JD Ryder', 'R Bishnoi', 'KV Sharma', 'Pankaj Singh', 'MK Pandey',\n",
       "       'RE van der Merwe', 'KP Appanna', 'D du Preez', 'EJG Morgan',\n",
       "       'A Mithun', 'S Sriram', 'MA Agarwal', 'AB de Villiers',\n",
       "       'TM Dilshan', 'SS Tiwary', 'AUK Pathan', 'S Aravind', 'CA Pujara',\n",
       "       'JJ van der Wath', 'R Ninan', 'DL Vettori', 'CH Gayle',\n",
       "       'J Syed Mohammad', 'M Kaif', 'LA Pomersbach', 'KB Arun Karthik',\n",
       "       'CK Langeveldt', 'AB McDonald', 'HV Patel', 'RR Bhatkal',\n",
       "       'M Muralitharan', 'P Parameswaran', 'DT Christian', 'KK Nair',\n",
       "       'MC Henriques', 'M Kartik', 'JD Unadkat', 'R Rampaul', 'KL Rahul',\n",
       "       'A Mukund', 'PA Patel', 'NJ Maddinson', 'Yuvraj Singh',\n",
       "       'YV Takawale', 'JA Morkel', 'MA Starc', 'AB Dinda', 'S Rana',\n",
       "       'VR Aaron', 'RR Rossouw', 'YS Chahal', 'VH Zol', 'AN Ahmed',\n",
       "       'DJG Sammy', 'SA Abbott', 'Mandeep Singh', 'KD Karthik', 'D Wiese',\n",
       "       'Iqbal Abdulla', 'MS Bisla', 'SN Khan', 'SR Watson', 'KM Jadhav',\n",
       "       'STR Binny', 'TM Head', 'KW Richardson', 'Sachin Baby',\n",
       "       'Parvez Rasool', 'CJ Jordan', 'TS Mills', 'A Choudhary', 'P Negi',\n",
       "       'Vishnu Vinod', 'AF Milne', 'S Badree', 'CR Woakes', 'BB McCullum',\n",
       "       'Q de Kock', 'Washington Sundar', 'CJ Anderson', 'Mohammed Siraj',\n",
       "       'UT Yadav', 'M Vohra', 'C de Grandhomme', 'TG Southee', 'M Ashwin',\n",
       "       'MM Ali', 'SO Hetmyer', 'S Dube', 'NA Saini', 'P Ray Barman',\n",
       "       'MP Stoinis', 'AD Nath', 'Gurkeerat Singh', 'H Klaasen',\n",
       "       'AJ Finch', 'D Padikkal', 'JR Philippe', 'I Udana', 'CH Morris',\n",
       "       'Shahbaz Ahmed', 'RM Patidar', 'GJ Maxwell', 'KA Jamieson',\n",
       "       'DR Sams'], dtype=object)"
      ]
     },
     "execution_count": 16,
     "metadata": {},
     "output_type": "execute_result"
    }
   ],
   "source": [
    "df[df[\"batting_team\"] == 'Royal Challengers Bangalore'][\"striker\"].unique()"
   ]
  },
  {
   "cell_type": "code",
   "execution_count": 17,
   "id": "18e3e669",
   "metadata": {},
   "outputs": [],
   "source": [
    "data = df[(df['striker'] == 'AB de Villiers') & (df['bowler'] == 'JJ Bumrah') ]"
   ]
  },
  {
   "cell_type": "code",
   "execution_count": 27,
   "id": "62a3ae7f",
   "metadata": {},
   "outputs": [
    {
     "data": {
      "text/html": [
       "<div>\n",
       "<style scoped>\n",
       "    .dataframe tbody tr th:only-of-type {\n",
       "        vertical-align: middle;\n",
       "    }\n",
       "\n",
       "    .dataframe tbody tr th {\n",
       "        vertical-align: top;\n",
       "    }\n",
       "\n",
       "    .dataframe thead th {\n",
       "        text-align: right;\n",
       "    }\n",
       "</style>\n",
       "<table border=\"1\" class=\"dataframe\">\n",
       "  <thead>\n",
       "    <tr style=\"text-align: right;\">\n",
       "      <th></th>\n",
       "      <th>match_id</th>\n",
       "      <th>season</th>\n",
       "      <th>start_date</th>\n",
       "      <th>venue</th>\n",
       "      <th>innings</th>\n",
       "      <th>ball</th>\n",
       "      <th>batting_team</th>\n",
       "      <th>bowling_team</th>\n",
       "      <th>striker</th>\n",
       "      <th>non_striker</th>\n",
       "      <th>bowler</th>\n",
       "      <th>runs_off_bat</th>\n",
       "      <th>extras</th>\n",
       "      <th>wides</th>\n",
       "      <th>noballs</th>\n",
       "      <th>byes</th>\n",
       "      <th>legbyes</th>\n",
       "      <th>penalty</th>\n",
       "      <th>wicket_type</th>\n",
       "      <th>player_dismissed</th>\n",
       "      <th>other_wicket_type</th>\n",
       "      <th>other_player_dismissed</th>\n",
       "    </tr>\n",
       "  </thead>\n",
       "  <tbody>\n",
       "    <tr>\n",
       "      <th>95889</th>\n",
       "      <td>729287</td>\n",
       "      <td>2014</td>\n",
       "      <td>2014-04-19</td>\n",
       "      <td>Dubai International Cricket Stadium</td>\n",
       "      <td>2</td>\n",
       "      <td>11.6</td>\n",
       "      <td>Royal Challengers Bangalore</td>\n",
       "      <td>Mumbai Indians</td>\n",
       "      <td>AB de Villiers</td>\n",
       "      <td>PA Patel</td>\n",
       "      <td>JJ Bumrah</td>\n",
       "      <td>0</td>\n",
       "      <td>0</td>\n",
       "      <td>NaN</td>\n",
       "      <td>NaN</td>\n",
       "      <td>NaN</td>\n",
       "      <td>NaN</td>\n",
       "      <td>NaN</td>\n",
       "      <td>NaN</td>\n",
       "      <td>NaN</td>\n",
       "      <td>NaN</td>\n",
       "      <td>NaN</td>\n",
       "    </tr>\n",
       "    <tr>\n",
       "      <th>95890</th>\n",
       "      <td>729287</td>\n",
       "      <td>2014</td>\n",
       "      <td>2014-04-19</td>\n",
       "      <td>Dubai International Cricket Stadium</td>\n",
       "      <td>2</td>\n",
       "      <td>11.5</td>\n",
       "      <td>Royal Challengers Bangalore</td>\n",
       "      <td>Mumbai Indians</td>\n",
       "      <td>AB de Villiers</td>\n",
       "      <td>PA Patel</td>\n",
       "      <td>JJ Bumrah</td>\n",
       "      <td>0</td>\n",
       "      <td>0</td>\n",
       "      <td>NaN</td>\n",
       "      <td>NaN</td>\n",
       "      <td>NaN</td>\n",
       "      <td>NaN</td>\n",
       "      <td>NaN</td>\n",
       "      <td>NaN</td>\n",
       "      <td>NaN</td>\n",
       "      <td>NaN</td>\n",
       "      <td>NaN</td>\n",
       "    </tr>\n",
       "    <tr>\n",
       "      <th>95892</th>\n",
       "      <td>729287</td>\n",
       "      <td>2014</td>\n",
       "      <td>2014-04-19</td>\n",
       "      <td>Dubai International Cricket Stadium</td>\n",
       "      <td>2</td>\n",
       "      <td>11.3</td>\n",
       "      <td>Royal Challengers Bangalore</td>\n",
       "      <td>Mumbai Indians</td>\n",
       "      <td>AB de Villiers</td>\n",
       "      <td>PA Patel</td>\n",
       "      <td>JJ Bumrah</td>\n",
       "      <td>1</td>\n",
       "      <td>0</td>\n",
       "      <td>NaN</td>\n",
       "      <td>NaN</td>\n",
       "      <td>NaN</td>\n",
       "      <td>NaN</td>\n",
       "      <td>NaN</td>\n",
       "      <td>NaN</td>\n",
       "      <td>NaN</td>\n",
       "      <td>NaN</td>\n",
       "      <td>NaN</td>\n",
       "    </tr>\n",
       "    <tr>\n",
       "      <th>95893</th>\n",
       "      <td>729287</td>\n",
       "      <td>2014</td>\n",
       "      <td>2014-04-19</td>\n",
       "      <td>Dubai International Cricket Stadium</td>\n",
       "      <td>2</td>\n",
       "      <td>11.2</td>\n",
       "      <td>Royal Challengers Bangalore</td>\n",
       "      <td>Mumbai Indians</td>\n",
       "      <td>AB de Villiers</td>\n",
       "      <td>PA Patel</td>\n",
       "      <td>JJ Bumrah</td>\n",
       "      <td>0</td>\n",
       "      <td>0</td>\n",
       "      <td>NaN</td>\n",
       "      <td>NaN</td>\n",
       "      <td>NaN</td>\n",
       "      <td>NaN</td>\n",
       "      <td>NaN</td>\n",
       "      <td>NaN</td>\n",
       "      <td>NaN</td>\n",
       "      <td>NaN</td>\n",
       "      <td>NaN</td>\n",
       "    </tr>\n",
       "    <tr>\n",
       "      <th>95894</th>\n",
       "      <td>729287</td>\n",
       "      <td>2014</td>\n",
       "      <td>2014-04-19</td>\n",
       "      <td>Dubai International Cricket Stadium</td>\n",
       "      <td>2</td>\n",
       "      <td>11.1</td>\n",
       "      <td>Royal Challengers Bangalore</td>\n",
       "      <td>Mumbai Indians</td>\n",
       "      <td>AB de Villiers</td>\n",
       "      <td>PA Patel</td>\n",
       "      <td>JJ Bumrah</td>\n",
       "      <td>6</td>\n",
       "      <td>0</td>\n",
       "      <td>NaN</td>\n",
       "      <td>NaN</td>\n",
       "      <td>NaN</td>\n",
       "      <td>NaN</td>\n",
       "      <td>NaN</td>\n",
       "      <td>NaN</td>\n",
       "      <td>NaN</td>\n",
       "      <td>NaN</td>\n",
       "      <td>NaN</td>\n",
       "    </tr>\n",
       "  </tbody>\n",
       "</table>\n",
       "</div>"
      ],
      "text/plain": [
       "       match_id  season  start_date                                venue  innings  ball                 batting_team    bowling_team         striker non_striker     bowler  runs_off_bat  extras  wides  noballs  byes  legbyes  penalty wicket_type player_dismissed  other_wicket_type  other_player_dismissed\n",
       "95889  729287    2014    2014-04-19  Dubai International Cricket Stadium  2        11.6  Royal Challengers Bangalore  Mumbai Indians  AB de Villiers  PA Patel    JJ Bumrah  0             0      NaN    NaN      NaN   NaN      NaN       NaN         NaN             NaN                NaN                    \n",
       "95890  729287    2014    2014-04-19  Dubai International Cricket Stadium  2        11.5  Royal Challengers Bangalore  Mumbai Indians  AB de Villiers  PA Patel    JJ Bumrah  0             0      NaN    NaN      NaN   NaN      NaN       NaN         NaN             NaN                NaN                    \n",
       "95892  729287    2014    2014-04-19  Dubai International Cricket Stadium  2        11.3  Royal Challengers Bangalore  Mumbai Indians  AB de Villiers  PA Patel    JJ Bumrah  1             0      NaN    NaN      NaN   NaN      NaN       NaN         NaN             NaN                NaN                    \n",
       "95893  729287    2014    2014-04-19  Dubai International Cricket Stadium  2        11.2  Royal Challengers Bangalore  Mumbai Indians  AB de Villiers  PA Patel    JJ Bumrah  0             0      NaN    NaN      NaN   NaN      NaN       NaN         NaN             NaN                NaN                    \n",
       "95894  729287    2014    2014-04-19  Dubai International Cricket Stadium  2        11.1  Royal Challengers Bangalore  Mumbai Indians  AB de Villiers  PA Patel    JJ Bumrah  6             0      NaN    NaN      NaN   NaN      NaN       NaN         NaN             NaN                NaN                    "
      ]
     },
     "execution_count": 27,
     "metadata": {},
     "output_type": "execute_result"
    }
   ],
   "source": [
    "data.head()"
   ]
  },
  {
   "cell_type": "code",
   "execution_count": null,
   "id": "626e0b0d",
   "metadata": {},
   "outputs": [],
   "source": [
    "# no. of runs scored\n",
    "# no of balls\n",
    "# no. of dismissal"
   ]
  },
  {
   "cell_type": "code",
   "execution_count": 24,
   "id": "2055df9b",
   "metadata": {},
   "outputs": [
    {
     "data": {
      "text/plain": [
       "114"
      ]
     },
     "execution_count": 24,
     "metadata": {},
     "output_type": "execute_result"
    }
   ],
   "source": [
    "runs = data[\"runs_off_bat\"].sum()\n",
    "runs"
   ]
  },
  {
   "cell_type": "code",
   "execution_count": 25,
   "id": "8e435088",
   "metadata": {},
   "outputs": [
    {
     "data": {
      "text/plain": [
       "79"
      ]
     },
     "execution_count": 25,
     "metadata": {},
     "output_type": "execute_result"
    }
   ],
   "source": [
    "balls = len(data)\n",
    "balls"
   ]
  },
  {
   "cell_type": "code",
   "execution_count": 33,
   "id": "497395e0",
   "metadata": {},
   "outputs": [
    {
     "data": {
      "text/plain": [
       "2"
      ]
     },
     "execution_count": 33,
     "metadata": {},
     "output_type": "execute_result"
    }
   ],
   "source": [
    "data[data[\"player_dismissed\"] == \"AB de Villiers\"]\n",
    "dismissal = len(data[data[\"player_dismissed\"] == \"AB de Villiers\"])\n",
    "dismissal"
   ]
  },
  {
   "cell_type": "code",
   "execution_count": 35,
   "id": "eb93f1ac",
   "metadata": {},
   "outputs": [
    {
     "data": {
      "text/plain": [
       "144.30379746835442"
      ]
     },
     "execution_count": 35,
     "metadata": {},
     "output_type": "execute_result"
    }
   ],
   "source": [
    "# SR against Bumrah\n",
    "SR = runs*100/balls\n",
    "SR"
   ]
  },
  {
   "cell_type": "code",
   "execution_count": 36,
   "id": "3b463176",
   "metadata": {},
   "outputs": [],
   "source": [
    "# comparison model"
   ]
  },
  {
   "cell_type": "code",
   "execution_count": 38,
   "id": "87ce4c08",
   "metadata": {},
   "outputs": [
    {
     "data": {
      "text/html": [
       "<div>\n",
       "<style scoped>\n",
       "    .dataframe tbody tr th:only-of-type {\n",
       "        vertical-align: middle;\n",
       "    }\n",
       "\n",
       "    .dataframe tbody tr th {\n",
       "        vertical-align: top;\n",
       "    }\n",
       "\n",
       "    .dataframe thead th {\n",
       "        text-align: right;\n",
       "    }\n",
       "</style>\n",
       "<table border=\"1\" class=\"dataframe\">\n",
       "  <thead>\n",
       "    <tr style=\"text-align: right;\">\n",
       "      <th></th>\n",
       "      <th>match_id</th>\n",
       "      <th>season</th>\n",
       "      <th>start_date</th>\n",
       "      <th>venue</th>\n",
       "      <th>innings</th>\n",
       "      <th>ball</th>\n",
       "      <th>batting_team</th>\n",
       "      <th>bowling_team</th>\n",
       "      <th>striker</th>\n",
       "      <th>non_striker</th>\n",
       "      <th>bowler</th>\n",
       "      <th>runs_off_bat</th>\n",
       "      <th>extras</th>\n",
       "      <th>wides</th>\n",
       "      <th>noballs</th>\n",
       "      <th>byes</th>\n",
       "      <th>legbyes</th>\n",
       "      <th>penalty</th>\n",
       "      <th>wicket_type</th>\n",
       "      <th>player_dismissed</th>\n",
       "      <th>other_wicket_type</th>\n",
       "      <th>other_player_dismissed</th>\n",
       "    </tr>\n",
       "  </thead>\n",
       "  <tbody>\n",
       "    <tr>\n",
       "      <th>76731</th>\n",
       "      <td>597999</td>\n",
       "      <td>2013</td>\n",
       "      <td>2013-04-04</td>\n",
       "      <td>M Chinnaswamy Stadium</td>\n",
       "      <td>1</td>\n",
       "      <td>6.1</td>\n",
       "      <td>Royal Challengers Bangalore</td>\n",
       "      <td>Mumbai Indians</td>\n",
       "      <td>MA Agarwal</td>\n",
       "      <td>CH Gayle</td>\n",
       "      <td>JJ Bumrah</td>\n",
       "      <td>0</td>\n",
       "      <td>0</td>\n",
       "      <td>NaN</td>\n",
       "      <td>NaN</td>\n",
       "      <td>NaN</td>\n",
       "      <td>NaN</td>\n",
       "      <td>NaN</td>\n",
       "      <td>caught</td>\n",
       "      <td>MA Agarwal</td>\n",
       "      <td>NaN</td>\n",
       "      <td>NaN</td>\n",
       "    </tr>\n",
       "    <tr>\n",
       "      <th>76732</th>\n",
       "      <td>597999</td>\n",
       "      <td>2013</td>\n",
       "      <td>2013-04-04</td>\n",
       "      <td>M Chinnaswamy Stadium</td>\n",
       "      <td>1</td>\n",
       "      <td>6.2</td>\n",
       "      <td>Royal Challengers Bangalore</td>\n",
       "      <td>Mumbai Indians</td>\n",
       "      <td>DT Christian</td>\n",
       "      <td>CH Gayle</td>\n",
       "      <td>JJ Bumrah</td>\n",
       "      <td>0</td>\n",
       "      <td>0</td>\n",
       "      <td>NaN</td>\n",
       "      <td>NaN</td>\n",
       "      <td>NaN</td>\n",
       "      <td>NaN</td>\n",
       "      <td>NaN</td>\n",
       "      <td>NaN</td>\n",
       "      <td>NaN</td>\n",
       "      <td>NaN</td>\n",
       "      <td>NaN</td>\n",
       "    </tr>\n",
       "    <tr>\n",
       "      <th>76733</th>\n",
       "      <td>597999</td>\n",
       "      <td>2013</td>\n",
       "      <td>2013-04-04</td>\n",
       "      <td>M Chinnaswamy Stadium</td>\n",
       "      <td>1</td>\n",
       "      <td>6.3</td>\n",
       "      <td>Royal Challengers Bangalore</td>\n",
       "      <td>Mumbai Indians</td>\n",
       "      <td>DT Christian</td>\n",
       "      <td>CH Gayle</td>\n",
       "      <td>JJ Bumrah</td>\n",
       "      <td>0</td>\n",
       "      <td>0</td>\n",
       "      <td>NaN</td>\n",
       "      <td>NaN</td>\n",
       "      <td>NaN</td>\n",
       "      <td>NaN</td>\n",
       "      <td>NaN</td>\n",
       "      <td>NaN</td>\n",
       "      <td>NaN</td>\n",
       "      <td>NaN</td>\n",
       "      <td>NaN</td>\n",
       "    </tr>\n",
       "  </tbody>\n",
       "</table>\n",
       "</div>"
      ],
      "text/plain": [
       "       match_id  season  start_date                  venue  innings  ball                 batting_team    bowling_team       striker non_striker     bowler  runs_off_bat  extras  wides  noballs  byes  legbyes  penalty wicket_type player_dismissed  other_wicket_type  other_player_dismissed\n",
       "76731  597999    2013    2013-04-04  M Chinnaswamy Stadium  1        6.1   Royal Challengers Bangalore  Mumbai Indians  MA Agarwal    CH Gayle    JJ Bumrah  0             0      NaN    NaN      NaN   NaN      NaN       caught      MA Agarwal      NaN                NaN                    \n",
       "76732  597999    2013    2013-04-04  M Chinnaswamy Stadium  1        6.2   Royal Challengers Bangalore  Mumbai Indians  DT Christian  CH Gayle    JJ Bumrah  0             0      NaN    NaN      NaN   NaN      NaN       NaN         NaN             NaN                NaN                    \n",
       "76733  597999    2013    2013-04-04  M Chinnaswamy Stadium  1        6.3   Royal Challengers Bangalore  Mumbai Indians  DT Christian  CH Gayle    JJ Bumrah  0             0      NaN    NaN      NaN   NaN      NaN       NaN         NaN             NaN                NaN                    "
      ]
     },
     "execution_count": 38,
     "metadata": {},
     "output_type": "execute_result"
    }
   ],
   "source": [
    "bumrah_df = df[df[\"bowler\"] == \"JJ Bumrah\"]\n",
    "bumrah_df.head(3)"
   ]
  },
  {
   "cell_type": "code",
   "execution_count": 46,
   "id": "9980da94",
   "metadata": {},
   "outputs": [
    {
     "data": {
      "text/html": [
       "<div>\n",
       "<style scoped>\n",
       "    .dataframe tbody tr th:only-of-type {\n",
       "        vertical-align: middle;\n",
       "    }\n",
       "\n",
       "    .dataframe tbody tr th {\n",
       "        vertical-align: top;\n",
       "    }\n",
       "\n",
       "    .dataframe thead th {\n",
       "        text-align: right;\n",
       "    }\n",
       "</style>\n",
       "<table border=\"1\" class=\"dataframe\">\n",
       "  <thead>\n",
       "    <tr style=\"text-align: right;\">\n",
       "      <th></th>\n",
       "      <th>striker</th>\n",
       "      <th>runs_off_bat</th>\n",
       "    </tr>\n",
       "  </thead>\n",
       "  <tbody>\n",
       "    <tr>\n",
       "      <th>0</th>\n",
       "      <td>A Mishra</td>\n",
       "      <td>1</td>\n",
       "    </tr>\n",
       "    <tr>\n",
       "      <th>1</th>\n",
       "      <td>AB de Villiers</td>\n",
       "      <td>114</td>\n",
       "    </tr>\n",
       "    <tr>\n",
       "      <th>2</th>\n",
       "      <td>AD Nath</td>\n",
       "      <td>4</td>\n",
       "    </tr>\n",
       "    <tr>\n",
       "      <th>3</th>\n",
       "      <td>AD Russell</td>\n",
       "      <td>51</td>\n",
       "    </tr>\n",
       "    <tr>\n",
       "      <th>4</th>\n",
       "      <td>AJ Finch</td>\n",
       "      <td>24</td>\n",
       "    </tr>\n",
       "  </tbody>\n",
       "</table>\n",
       "</div>"
      ],
      "text/plain": [
       "          striker  runs_off_bat\n",
       "0  A Mishra        1           \n",
       "1  AB de Villiers  114         \n",
       "2  AD Nath         4           \n",
       "3  AD Russell      51          \n",
       "4  AJ Finch        24          "
      ]
     },
     "execution_count": 46,
     "metadata": {},
     "output_type": "execute_result"
    }
   ],
   "source": [
    "bdf1 = pd.DataFrame(bumrah_df.groupby(\"striker\")[\"runs_off_bat\"].sum()).reset_index()\n",
    "bdf1.head()"
   ]
  },
  {
   "cell_type": "code",
   "execution_count": 48,
   "id": "9e060623",
   "metadata": {},
   "outputs": [
    {
     "data": {
      "text/html": [
       "<div>\n",
       "<style scoped>\n",
       "    .dataframe tbody tr th:only-of-type {\n",
       "        vertical-align: middle;\n",
       "    }\n",
       "\n",
       "    .dataframe tbody tr th {\n",
       "        vertical-align: top;\n",
       "    }\n",
       "\n",
       "    .dataframe thead th {\n",
       "        text-align: right;\n",
       "    }\n",
       "</style>\n",
       "<table border=\"1\" class=\"dataframe\">\n",
       "  <thead>\n",
       "    <tr style=\"text-align: right;\">\n",
       "      <th></th>\n",
       "      <th>striker</th>\n",
       "      <th>ball</th>\n",
       "    </tr>\n",
       "  </thead>\n",
       "  <tbody>\n",
       "    <tr>\n",
       "      <th>0</th>\n",
       "      <td>A Mishra</td>\n",
       "      <td>5</td>\n",
       "    </tr>\n",
       "    <tr>\n",
       "      <th>1</th>\n",
       "      <td>AB de Villiers</td>\n",
       "      <td>79</td>\n",
       "    </tr>\n",
       "    <tr>\n",
       "      <th>2</th>\n",
       "      <td>AD Nath</td>\n",
       "      <td>4</td>\n",
       "    </tr>\n",
       "    <tr>\n",
       "      <th>3</th>\n",
       "      <td>AD Russell</td>\n",
       "      <td>41</td>\n",
       "    </tr>\n",
       "    <tr>\n",
       "      <th>4</th>\n",
       "      <td>AJ Finch</td>\n",
       "      <td>29</td>\n",
       "    </tr>\n",
       "  </tbody>\n",
       "</table>\n",
       "</div>"
      ],
      "text/plain": [
       "          striker  ball\n",
       "0  A Mishra        5   \n",
       "1  AB de Villiers  79  \n",
       "2  AD Nath         4   \n",
       "3  AD Russell      41  \n",
       "4  AJ Finch        29  "
      ]
     },
     "execution_count": 48,
     "metadata": {},
     "output_type": "execute_result"
    }
   ],
   "source": [
    "bdf2 = pd.DataFrame(bumrah_df.groupby('striker')[\"ball\"].count()).reset_index()\n",
    "bdf2.head()"
   ]
  },
  {
   "cell_type": "code",
   "execution_count": 51,
   "id": "e6fda57a",
   "metadata": {},
   "outputs": [],
   "source": [
    "bdf3 = bdf1.merge(bdf2, on = 'striker', how = 'left')"
   ]
  },
  {
   "cell_type": "code",
   "execution_count": 52,
   "id": "bb709827",
   "metadata": {},
   "outputs": [],
   "source": [
    "bdf3[\"Strike_Rate\"] = 100*bdf3['runs_off_bat']/bdf3['ball']"
   ]
  },
  {
   "cell_type": "code",
   "execution_count": 54,
   "id": "72856165",
   "metadata": {},
   "outputs": [
    {
     "data": {
      "text/html": [
       "<div>\n",
       "<style scoped>\n",
       "    .dataframe tbody tr th:only-of-type {\n",
       "        vertical-align: middle;\n",
       "    }\n",
       "\n",
       "    .dataframe tbody tr th {\n",
       "        vertical-align: top;\n",
       "    }\n",
       "\n",
       "    .dataframe thead th {\n",
       "        text-align: right;\n",
       "    }\n",
       "</style>\n",
       "<table border=\"1\" class=\"dataframe\">\n",
       "  <thead>\n",
       "    <tr style=\"text-align: right;\">\n",
       "      <th></th>\n",
       "      <th>striker</th>\n",
       "      <th>runs_off_bat</th>\n",
       "      <th>ball</th>\n",
       "      <th>Strike_Rate</th>\n",
       "    </tr>\n",
       "  </thead>\n",
       "  <tbody>\n",
       "    <tr>\n",
       "      <th>0</th>\n",
       "      <td>A Mishra</td>\n",
       "      <td>1</td>\n",
       "      <td>5</td>\n",
       "      <td>20.000000</td>\n",
       "    </tr>\n",
       "    <tr>\n",
       "      <th>1</th>\n",
       "      <td>AB de Villiers</td>\n",
       "      <td>114</td>\n",
       "      <td>79</td>\n",
       "      <td>144.303797</td>\n",
       "    </tr>\n",
       "    <tr>\n",
       "      <th>2</th>\n",
       "      <td>AD Nath</td>\n",
       "      <td>4</td>\n",
       "      <td>4</td>\n",
       "      <td>100.000000</td>\n",
       "    </tr>\n",
       "  </tbody>\n",
       "</table>\n",
       "</div>"
      ],
      "text/plain": [
       "          striker  runs_off_bat  ball  Strike_Rate\n",
       "0  A Mishra        1             5     20.000000  \n",
       "1  AB de Villiers  114           79    144.303797 \n",
       "2  AD Nath         4             4     100.000000 "
      ]
     },
     "execution_count": 54,
     "metadata": {},
     "output_type": "execute_result"
    }
   ],
   "source": [
    "bdf3.head(3)"
   ]
  },
  {
   "cell_type": "code",
   "execution_count": 55,
   "id": "ac0adb9f",
   "metadata": {},
   "outputs": [],
   "source": [
    "# minimum criteria of 30 balls"
   ]
  },
  {
   "cell_type": "code",
   "execution_count": 58,
   "id": "64d3eaab",
   "metadata": {},
   "outputs": [
    {
     "data": {
      "text/html": [
       "<div>\n",
       "<style scoped>\n",
       "    .dataframe tbody tr th:only-of-type {\n",
       "        vertical-align: middle;\n",
       "    }\n",
       "\n",
       "    .dataframe tbody tr th {\n",
       "        vertical-align: top;\n",
       "    }\n",
       "\n",
       "    .dataframe thead th {\n",
       "        text-align: right;\n",
       "    }\n",
       "</style>\n",
       "<table border=\"1\" class=\"dataframe\">\n",
       "  <thead>\n",
       "    <tr style=\"text-align: right;\">\n",
       "      <th></th>\n",
       "      <th>striker</th>\n",
       "      <th>runs_off_bat</th>\n",
       "      <th>ball</th>\n",
       "      <th>Strike_Rate</th>\n",
       "    </tr>\n",
       "  </thead>\n",
       "  <tbody>\n",
       "    <tr>\n",
       "      <th>1</th>\n",
       "      <td>AB de Villiers</td>\n",
       "      <td>114</td>\n",
       "      <td>79</td>\n",
       "      <td>144.303797</td>\n",
       "    </tr>\n",
       "    <tr>\n",
       "      <th>3</th>\n",
       "      <td>AD Russell</td>\n",
       "      <td>51</td>\n",
       "      <td>41</td>\n",
       "      <td>124.390244</td>\n",
       "    </tr>\n",
       "    <tr>\n",
       "      <th>7</th>\n",
       "      <td>AM Rahane</td>\n",
       "      <td>43</td>\n",
       "      <td>35</td>\n",
       "      <td>122.857143</td>\n",
       "    </tr>\n",
       "  </tbody>\n",
       "</table>\n",
       "</div>"
      ],
      "text/plain": [
       "          striker  runs_off_bat  ball  Strike_Rate\n",
       "1  AB de Villiers  114           79    144.303797 \n",
       "3  AD Russell      51            41    124.390244 \n",
       "7  AM Rahane       43            35    122.857143 "
      ]
     },
     "execution_count": 58,
     "metadata": {},
     "output_type": "execute_result"
    }
   ],
   "source": [
    "bdf3 = bdf3[bdf3['ball'] >= 30]\n",
    "bdf3.head(3)"
   ]
  },
  {
   "cell_type": "code",
   "execution_count": 59,
   "id": "248e8dc5",
   "metadata": {},
   "outputs": [],
   "source": [
    "# for ABD"
   ]
  },
  {
   "cell_type": "code",
   "execution_count": 65,
   "id": "5b7d9f9f",
   "metadata": {},
   "outputs": [
    {
     "data": {
      "text/html": [
       "<div>\n",
       "<style scoped>\n",
       "    .dataframe tbody tr th:only-of-type {\n",
       "        vertical-align: middle;\n",
       "    }\n",
       "\n",
       "    .dataframe tbody tr th {\n",
       "        vertical-align: top;\n",
       "    }\n",
       "\n",
       "    .dataframe thead th {\n",
       "        text-align: right;\n",
       "    }\n",
       "</style>\n",
       "<table border=\"1\" class=\"dataframe\">\n",
       "  <thead>\n",
       "    <tr style=\"text-align: right;\">\n",
       "      <th></th>\n",
       "      <th>match_id</th>\n",
       "      <th>season</th>\n",
       "      <th>start_date</th>\n",
       "      <th>venue</th>\n",
       "      <th>innings</th>\n",
       "      <th>ball</th>\n",
       "      <th>batting_team</th>\n",
       "      <th>bowling_team</th>\n",
       "      <th>striker</th>\n",
       "      <th>non_striker</th>\n",
       "      <th>bowler</th>\n",
       "      <th>runs_off_bat</th>\n",
       "      <th>extras</th>\n",
       "      <th>wides</th>\n",
       "      <th>noballs</th>\n",
       "      <th>byes</th>\n",
       "      <th>legbyes</th>\n",
       "      <th>penalty</th>\n",
       "      <th>wicket_type</th>\n",
       "      <th>player_dismissed</th>\n",
       "      <th>other_wicket_type</th>\n",
       "      <th>other_player_dismissed</th>\n",
       "    </tr>\n",
       "  </thead>\n",
       "  <tbody>\n",
       "    <tr>\n",
       "      <th>4574</th>\n",
       "      <td>336001</td>\n",
       "      <td>2008</td>\n",
       "      <td>2008-05-02</td>\n",
       "      <td>MA Chidambaram Stadium, Chepauk</td>\n",
       "      <td>2</td>\n",
       "      <td>14.6</td>\n",
       "      <td>Delhi Daredevils</td>\n",
       "      <td>Chennai Super Kings</td>\n",
       "      <td>AB de Villiers</td>\n",
       "      <td>S Dhawan</td>\n",
       "      <td>MS Gony</td>\n",
       "      <td>2</td>\n",
       "      <td>0</td>\n",
       "      <td>NaN</td>\n",
       "      <td>NaN</td>\n",
       "      <td>NaN</td>\n",
       "      <td>NaN</td>\n",
       "      <td>NaN</td>\n",
       "      <td>NaN</td>\n",
       "      <td>NaN</td>\n",
       "      <td>NaN</td>\n",
       "      <td>NaN</td>\n",
       "    </tr>\n",
       "    <tr>\n",
       "      <th>4577</th>\n",
       "      <td>336001</td>\n",
       "      <td>2008</td>\n",
       "      <td>2008-05-02</td>\n",
       "      <td>MA Chidambaram Stadium, Chepauk</td>\n",
       "      <td>2</td>\n",
       "      <td>15.3</td>\n",
       "      <td>Delhi Daredevils</td>\n",
       "      <td>Chennai Super Kings</td>\n",
       "      <td>AB de Villiers</td>\n",
       "      <td>S Dhawan</td>\n",
       "      <td>M Ntini</td>\n",
       "      <td>2</td>\n",
       "      <td>0</td>\n",
       "      <td>NaN</td>\n",
       "      <td>NaN</td>\n",
       "      <td>NaN</td>\n",
       "      <td>NaN</td>\n",
       "      <td>NaN</td>\n",
       "      <td>NaN</td>\n",
       "      <td>NaN</td>\n",
       "      <td>NaN</td>\n",
       "      <td>NaN</td>\n",
       "    </tr>\n",
       "    <tr>\n",
       "      <th>4578</th>\n",
       "      <td>336001</td>\n",
       "      <td>2008</td>\n",
       "      <td>2008-05-02</td>\n",
       "      <td>MA Chidambaram Stadium, Chepauk</td>\n",
       "      <td>2</td>\n",
       "      <td>15.4</td>\n",
       "      <td>Delhi Daredevils</td>\n",
       "      <td>Chennai Super Kings</td>\n",
       "      <td>AB de Villiers</td>\n",
       "      <td>S Dhawan</td>\n",
       "      <td>M Ntini</td>\n",
       "      <td>1</td>\n",
       "      <td>0</td>\n",
       "      <td>NaN</td>\n",
       "      <td>NaN</td>\n",
       "      <td>NaN</td>\n",
       "      <td>NaN</td>\n",
       "      <td>NaN</td>\n",
       "      <td>NaN</td>\n",
       "      <td>NaN</td>\n",
       "      <td>NaN</td>\n",
       "      <td>NaN</td>\n",
       "    </tr>\n",
       "  </tbody>\n",
       "</table>\n",
       "</div>"
      ],
      "text/plain": [
       "      match_id  season  start_date                            venue  innings  ball      batting_team         bowling_team         striker non_striker   bowler  runs_off_bat  extras  wides  noballs  byes  legbyes  penalty wicket_type player_dismissed  other_wicket_type  other_player_dismissed\n",
       "4574  336001    2008    2008-05-02  MA Chidambaram Stadium, Chepauk  2        14.6  Delhi Daredevils  Chennai Super Kings  AB de Villiers  S Dhawan    MS Gony  2             0      NaN    NaN      NaN   NaN      NaN       NaN         NaN             NaN                NaN                    \n",
       "4577  336001    2008    2008-05-02  MA Chidambaram Stadium, Chepauk  2        15.3  Delhi Daredevils  Chennai Super Kings  AB de Villiers  S Dhawan    M Ntini  2             0      NaN    NaN      NaN   NaN      NaN       NaN         NaN             NaN                NaN                    \n",
       "4578  336001    2008    2008-05-02  MA Chidambaram Stadium, Chepauk  2        15.4  Delhi Daredevils  Chennai Super Kings  AB de Villiers  S Dhawan    M Ntini  1             0      NaN    NaN      NaN   NaN      NaN       NaN         NaN             NaN                NaN                    "
      ]
     },
     "execution_count": 65,
     "metadata": {},
     "output_type": "execute_result"
    }
   ],
   "source": [
    "abd_df = df[df['striker'] == 'AB de Villiers']\n",
    "abd_df.head(3)"
   ]
  },
  {
   "cell_type": "code",
   "execution_count": 71,
   "id": "99b9ce98",
   "metadata": {},
   "outputs": [
    {
     "data": {
      "text/html": [
       "<div>\n",
       "<style scoped>\n",
       "    .dataframe tbody tr th:only-of-type {\n",
       "        vertical-align: middle;\n",
       "    }\n",
       "\n",
       "    .dataframe tbody tr th {\n",
       "        vertical-align: top;\n",
       "    }\n",
       "\n",
       "    .dataframe thead th {\n",
       "        text-align: right;\n",
       "    }\n",
       "</style>\n",
       "<table border=\"1\" class=\"dataframe\">\n",
       "  <thead>\n",
       "    <tr style=\"text-align: right;\">\n",
       "      <th></th>\n",
       "      <th>bowler</th>\n",
       "      <th>runs_off_bat</th>\n",
       "    </tr>\n",
       "  </thead>\n",
       "  <tbody>\n",
       "    <tr>\n",
       "      <th>0</th>\n",
       "      <td>A Ashish Reddy</td>\n",
       "      <td>46</td>\n",
       "    </tr>\n",
       "    <tr>\n",
       "      <th>1</th>\n",
       "      <td>A Chandila</td>\n",
       "      <td>26</td>\n",
       "    </tr>\n",
       "    <tr>\n",
       "      <th>2</th>\n",
       "      <td>A Flintoff</td>\n",
       "      <td>34</td>\n",
       "    </tr>\n",
       "  </tbody>\n",
       "</table>\n",
       "</div>"
      ],
      "text/plain": [
       "           bowler  runs_off_bat\n",
       "0  A Ashish Reddy  46          \n",
       "1  A Chandila      26          \n",
       "2  A Flintoff      34          "
      ]
     },
     "execution_count": 71,
     "metadata": {},
     "output_type": "execute_result"
    }
   ],
   "source": [
    "# runs scpred by ab against different ballers\n",
    "abdf1 = pd.DataFrame(abd_df.groupby(\"bowler\")[\"runs_off_bat\"].sum()).reset_index()\n",
    "abdf1.head(3)"
   ]
  },
  {
   "cell_type": "code",
   "execution_count": 72,
   "id": "f9d7cb23",
   "metadata": {},
   "outputs": [
    {
     "data": {
      "text/html": [
       "<div>\n",
       "<style scoped>\n",
       "    .dataframe tbody tr th:only-of-type {\n",
       "        vertical-align: middle;\n",
       "    }\n",
       "\n",
       "    .dataframe tbody tr th {\n",
       "        vertical-align: top;\n",
       "    }\n",
       "\n",
       "    .dataframe thead th {\n",
       "        text-align: right;\n",
       "    }\n",
       "</style>\n",
       "<table border=\"1\" class=\"dataframe\">\n",
       "  <thead>\n",
       "    <tr style=\"text-align: right;\">\n",
       "      <th></th>\n",
       "      <th>bowler</th>\n",
       "      <th>ball</th>\n",
       "    </tr>\n",
       "  </thead>\n",
       "  <tbody>\n",
       "    <tr>\n",
       "      <th>0</th>\n",
       "      <td>A Ashish Reddy</td>\n",
       "      <td>18</td>\n",
       "    </tr>\n",
       "    <tr>\n",
       "      <th>1</th>\n",
       "      <td>A Chandila</td>\n",
       "      <td>11</td>\n",
       "    </tr>\n",
       "    <tr>\n",
       "      <th>2</th>\n",
       "      <td>A Flintoff</td>\n",
       "      <td>12</td>\n",
       "    </tr>\n",
       "  </tbody>\n",
       "</table>\n",
       "</div>"
      ],
      "text/plain": [
       "           bowler  ball\n",
       "0  A Ashish Reddy  18  \n",
       "1  A Chandila      11  \n",
       "2  A Flintoff      12  "
      ]
     },
     "execution_count": 72,
     "metadata": {},
     "output_type": "execute_result"
    }
   ],
   "source": [
    "# balls faced by ab\n",
    "abdf2 = pd.DataFrame(abd_df.groupby(\"bowler\")[\"ball\"].count()).reset_index()\n",
    "abdf2.head(3)"
   ]
  },
  {
   "cell_type": "code",
   "execution_count": 73,
   "id": "8a0cdc0b",
   "metadata": {},
   "outputs": [
    {
     "data": {
      "text/html": [
       "<div>\n",
       "<style scoped>\n",
       "    .dataframe tbody tr th:only-of-type {\n",
       "        vertical-align: middle;\n",
       "    }\n",
       "\n",
       "    .dataframe tbody tr th {\n",
       "        vertical-align: top;\n",
       "    }\n",
       "\n",
       "    .dataframe thead th {\n",
       "        text-align: right;\n",
       "    }\n",
       "</style>\n",
       "<table border=\"1\" class=\"dataframe\">\n",
       "  <thead>\n",
       "    <tr style=\"text-align: right;\">\n",
       "      <th></th>\n",
       "      <th>bowler</th>\n",
       "      <th>runs_off_bat</th>\n",
       "      <th>ball</th>\n",
       "    </tr>\n",
       "  </thead>\n",
       "  <tbody>\n",
       "    <tr>\n",
       "      <th>0</th>\n",
       "      <td>A Ashish Reddy</td>\n",
       "      <td>46</td>\n",
       "      <td>18</td>\n",
       "    </tr>\n",
       "    <tr>\n",
       "      <th>1</th>\n",
       "      <td>A Chandila</td>\n",
       "      <td>26</td>\n",
       "      <td>11</td>\n",
       "    </tr>\n",
       "    <tr>\n",
       "      <th>2</th>\n",
       "      <td>A Flintoff</td>\n",
       "      <td>34</td>\n",
       "      <td>12</td>\n",
       "    </tr>\n",
       "  </tbody>\n",
       "</table>\n",
       "</div>"
      ],
      "text/plain": [
       "           bowler  runs_off_bat  ball\n",
       "0  A Ashish Reddy  46            18  \n",
       "1  A Chandila      26            11  \n",
       "2  A Flintoff      34            12  "
      ]
     },
     "execution_count": 73,
     "metadata": {},
     "output_type": "execute_result"
    }
   ],
   "source": [
    "abdf3 = abdf1.merge(abdf2, on = 'bowler', how = 'left')\n",
    "abdf3.head(3)"
   ]
  },
  {
   "cell_type": "code",
   "execution_count": 75,
   "id": "761eb283",
   "metadata": {},
   "outputs": [
    {
     "data": {
      "text/html": [
       "<div>\n",
       "<style scoped>\n",
       "    .dataframe tbody tr th:only-of-type {\n",
       "        vertical-align: middle;\n",
       "    }\n",
       "\n",
       "    .dataframe tbody tr th {\n",
       "        vertical-align: top;\n",
       "    }\n",
       "\n",
       "    .dataframe thead th {\n",
       "        text-align: right;\n",
       "    }\n",
       "</style>\n",
       "<table border=\"1\" class=\"dataframe\">\n",
       "  <thead>\n",
       "    <tr style=\"text-align: right;\">\n",
       "      <th></th>\n",
       "      <th>bowler</th>\n",
       "      <th>runs_off_bat</th>\n",
       "      <th>ball</th>\n",
       "      <th>Strike_Rate</th>\n",
       "    </tr>\n",
       "  </thead>\n",
       "  <tbody>\n",
       "    <tr>\n",
       "      <th>0</th>\n",
       "      <td>A Ashish Reddy</td>\n",
       "      <td>46</td>\n",
       "      <td>18</td>\n",
       "      <td>255.555556</td>\n",
       "    </tr>\n",
       "    <tr>\n",
       "      <th>1</th>\n",
       "      <td>A Chandila</td>\n",
       "      <td>26</td>\n",
       "      <td>11</td>\n",
       "      <td>236.363636</td>\n",
       "    </tr>\n",
       "    <tr>\n",
       "      <th>2</th>\n",
       "      <td>A Flintoff</td>\n",
       "      <td>34</td>\n",
       "      <td>12</td>\n",
       "      <td>283.333333</td>\n",
       "    </tr>\n",
       "  </tbody>\n",
       "</table>\n",
       "</div>"
      ],
      "text/plain": [
       "           bowler  runs_off_bat  ball  Strike_Rate\n",
       "0  A Ashish Reddy  46            18    255.555556 \n",
       "1  A Chandila      26            11    236.363636 \n",
       "2  A Flintoff      34            12    283.333333 "
      ]
     },
     "execution_count": 75,
     "metadata": {},
     "output_type": "execute_result"
    }
   ],
   "source": [
    "# SR\n",
    "abdf3[\"Strike_Rate\"] = abdf3[\"runs_off_bat\"]*100/abdf3['ball']\n",
    "abdf3.head(3)"
   ]
  },
  {
   "cell_type": "code",
   "execution_count": 76,
   "id": "b0310eaf",
   "metadata": {},
   "outputs": [
    {
     "data": {
      "text/html": [
       "<div>\n",
       "<style scoped>\n",
       "    .dataframe tbody tr th:only-of-type {\n",
       "        vertical-align: middle;\n",
       "    }\n",
       "\n",
       "    .dataframe tbody tr th {\n",
       "        vertical-align: top;\n",
       "    }\n",
       "\n",
       "    .dataframe thead th {\n",
       "        text-align: right;\n",
       "    }\n",
       "</style>\n",
       "<table border=\"1\" class=\"dataframe\">\n",
       "  <thead>\n",
       "    <tr style=\"text-align: right;\">\n",
       "      <th></th>\n",
       "      <th>bowler</th>\n",
       "      <th>runs_off_bat</th>\n",
       "      <th>ball</th>\n",
       "      <th>Strike_Rate</th>\n",
       "    </tr>\n",
       "  </thead>\n",
       "  <tbody>\n",
       "    <tr>\n",
       "      <th>3</th>\n",
       "      <td>A Kumble</td>\n",
       "      <td>39</td>\n",
       "      <td>41</td>\n",
       "      <td>95.121951</td>\n",
       "    </tr>\n",
       "    <tr>\n",
       "      <th>4</th>\n",
       "      <td>A Mishra</td>\n",
       "      <td>40</td>\n",
       "      <td>37</td>\n",
       "      <td>108.108108</td>\n",
       "    </tr>\n",
       "    <tr>\n",
       "      <th>16</th>\n",
       "      <td>AD Russell</td>\n",
       "      <td>87</td>\n",
       "      <td>38</td>\n",
       "      <td>228.947368</td>\n",
       "    </tr>\n",
       "  </tbody>\n",
       "</table>\n",
       "</div>"
      ],
      "text/plain": [
       "        bowler  runs_off_bat  ball  Strike_Rate\n",
       "3   A Kumble    39            41    95.121951  \n",
       "4   A Mishra    40            37    108.108108 \n",
       "16  AD Russell  87            38    228.947368 "
      ]
     },
     "execution_count": 76,
     "metadata": {},
     "output_type": "execute_result"
    }
   ],
   "source": [
    "# 30 balls criteria\n",
    "abdf3 = abdf3[abdf3['ball'] >= 30]\n",
    "abdf3.head(3)"
   ]
  },
  {
   "cell_type": "code",
   "execution_count": null,
   "id": "cf4cdd0e",
   "metadata": {},
   "outputs": [],
   "source": []
  },
  {
   "cell_type": "code",
   "execution_count": 83,
   "id": "927741db",
   "metadata": {},
   "outputs": [],
   "source": [
    "abdf3.reset_index(inplace = True, drop = True)\n",
    "bdf3.reset_index(inplace = True, drop = True)"
   ]
  },
  {
   "cell_type": "code",
   "execution_count": 81,
   "id": "68aadbdc",
   "metadata": {
    "scrolled": true
   },
   "outputs": [],
   "source": [
    "#abdf3.sort_values('Strike_Rate', ascending = False).reset_index()"
   ]
  },
  {
   "cell_type": "code",
   "execution_count": 82,
   "id": "15fae369",
   "metadata": {
    "scrolled": true
   },
   "outputs": [],
   "source": [
    "#bdf3.sort_values('Strike_Rate', ascending = False).reset_index()"
   ]
  },
  {
   "cell_type": "code",
   "execution_count": 84,
   "id": "917937fb",
   "metadata": {},
   "outputs": [
    {
     "data": {
      "text/html": [
       "<div>\n",
       "<style scoped>\n",
       "    .dataframe tbody tr th:only-of-type {\n",
       "        vertical-align: middle;\n",
       "    }\n",
       "\n",
       "    .dataframe tbody tr th {\n",
       "        vertical-align: top;\n",
       "    }\n",
       "\n",
       "    .dataframe thead th {\n",
       "        text-align: right;\n",
       "    }\n",
       "</style>\n",
       "<table border=\"1\" class=\"dataframe\">\n",
       "  <thead>\n",
       "    <tr style=\"text-align: right;\">\n",
       "      <th></th>\n",
       "      <th>striker</th>\n",
       "      <th>runs_off_bat</th>\n",
       "      <th>ball</th>\n",
       "      <th>Strike_Rate</th>\n",
       "    </tr>\n",
       "  </thead>\n",
       "  <tbody>\n",
       "    <tr>\n",
       "      <th>0</th>\n",
       "      <td>AB de Villiers</td>\n",
       "      <td>114</td>\n",
       "      <td>79</td>\n",
       "      <td>144.303797</td>\n",
       "    </tr>\n",
       "    <tr>\n",
       "      <th>1</th>\n",
       "      <td>AD Russell</td>\n",
       "      <td>51</td>\n",
       "      <td>41</td>\n",
       "      <td>124.390244</td>\n",
       "    </tr>\n",
       "    <tr>\n",
       "      <th>2</th>\n",
       "      <td>AM Rahane</td>\n",
       "      <td>43</td>\n",
       "      <td>35</td>\n",
       "      <td>122.857143</td>\n",
       "    </tr>\n",
       "  </tbody>\n",
       "</table>\n",
       "</div>"
      ],
      "text/plain": [
       "          striker  runs_off_bat  ball  Strike_Rate\n",
       "0  AB de Villiers  114           79    144.303797 \n",
       "1  AD Russell      51            41    124.390244 \n",
       "2  AM Rahane       43            35    122.857143 "
      ]
     },
     "execution_count": 84,
     "metadata": {},
     "output_type": "execute_result"
    }
   ],
   "source": [
    "bdf3.head(3)"
   ]
  },
  {
   "cell_type": "code",
   "execution_count": 85,
   "id": "8ab5e8a9",
   "metadata": {},
   "outputs": [],
   "source": [
    "%matplotlib inline"
   ]
  },
  {
   "cell_type": "code",
   "execution_count": 105,
   "id": "de7e6ec4",
   "metadata": {},
   "outputs": [
    {
     "data": {
      "image/png": "[encoded data removed]",
      "text/plain": [
       "<Figure size 1152x576 with 1 Axes>"
      ]
     },
     "metadata": {
      "needs_background": "light"
     },
     "output_type": "display_data"
    }
   ],
   "source": [
    "plt.figure(figsize = (16, 8))\n",
    "plt.scatter(bdf3['Strike_Rate'], bdf3['runs_off_bat'])\n",
    "for i in range(len(bdf3)):\n",
    "    if bdf3[\"striker\"][i] == \"V Kohli\":\n",
    "        plt.text(bdf3[\"Strike_Rate\"][i] -7, bdf3[\"runs_off_bat\"][i] -1, bdf3[\"striker\"][i])\n",
    "    else:\n",
    "        plt.text(bdf3[\"Strike_Rate\"][i] +1, bdf3[\"runs_off_bat\"][i] -1, bdf3[\"striker\"][i])\n",
    "\n",
    "\n",
    "plt.axvline(120, ls = '--', color = 'grey')\n",
    "plt.axhline(60, ls = '--', color = 'grey')\n",
    "\n",
    "plt.title(\"Batsman against Bumrah in IPL (min 30 balls)\", fontsize = 19)\n",
    "plt.xlabel(\"Strike Rate of Batsman\")\n",
    "plt.ylabel(\"Runs Scored against Bumrah\")\n",
    "\n",
    "plt.show()"
   ]
  },
  {
   "cell_type": "code",
   "execution_count": 109,
   "id": "45ab53b0",
   "metadata": {},
   "outputs": [
    {
     "data": {
      "image/png": "[encoded data removed]",
      "text/plain": [
       "<Figure size 1152x576 with 1 Axes>"
      ]
     },
     "metadata": {
      "needs_background": "light"
     },
     "output_type": "display_data"
    }
   ],
   "source": [
    "plt.figure(figsize = (16, 8))\n",
    "plt.scatter(abdf3['Strike_Rate'], abdf3['runs_off_bat'])\n",
    "for i in range(len(abdf3)):\n",
    "    plt.text(abdf3['Strike_Rate'][i], abdf3['runs_off_bat'][i], abdf3['bowler'][i])\n",
    "\n",
    "\n",
    "plt.axvline(120, ls = '--', color = 'grey')\n",
    "plt.axhline(80, ls = '--', color = 'grey')\n",
    "plt.title(\"ABD against Bowlers in IPL (min 30 balls)\", fontsize = 19)\n",
    "plt.xlabel(\"Strike Rate of ABD\")\n",
    "plt.ylabel(\"Runs Scored against Bowler\")\n",
    "\n",
    "plt.show()"
   ]
  },
  {
   "cell_type": "code",
   "execution_count": null,
   "id": "1790735b",
   "metadata": {},
   "outputs": [],
   "source": []
  },
  {
   "cell_type": "code",
   "execution_count": null,
   "id": "34865770",
   "metadata": {},
   "outputs": [],
   "source": []
  },
  {
   "cell_type": "code",
   "execution_count": null,
   "id": "d5f97769",
   "metadata": {},
   "outputs": [],
   "source": []
  },
  {
   "cell_type": "code",
   "execution_count": null,
   "id": "cf17f75a",
   "metadata": {},
   "outputs": [],
   "source": []
  },
  {
   "cell_type": "code",
   "execution_count": null,
   "id": "80e21a50",
   "metadata": {},
   "outputs": [],
   "source": []
  },
  {
   "cell_type": "code",
   "execution_count": null,
   "id": "e783098c",
   "metadata": {},
   "outputs": [],
   "source": []
  },
  {
   "cell_type": "code",
   "execution_count": null,
   "id": "e6a91d42",
   "metadata": {},
   "outputs": [],
   "source": []
  },
  {
   "cell_type": "code",
   "execution_count": null,
   "id": "a8f605d2",
   "metadata": {},
   "outputs": [],
   "source": []
  },
  {
   "cell_type": "code",
   "execution_count": null,
   "id": "13c2d6c3",
   "metadata": {},
   "outputs": [],
   "source": []
  },
  {
   "cell_type": "code",
   "execution_count": null,
   "id": "329ce3cf",
   "metadata": {},
   "outputs": [],
   "source": []
  },
  {
   "cell_type": "code",
   "execution_count": null,
   "id": "ececd6ff",
   "metadata": {},
   "outputs": [],
   "source": []
  },
  {
   "cell_type": "code",
   "execution_count": null,
   "id": "828cece4",
   "metadata": {},
   "outputs": [],
   "source": []
  },
  {
   "cell_type": "code",
   "execution_count": null,
   "id": "9101369a",
   "metadata": {},
   "outputs": [],
   "source": []
  },
  {
   "cell_type": "code",
   "execution_count": null,
   "id": "ababd369",
   "metadata": {},
   "outputs": [],
   "source": []
  },
  {
   "cell_type": "code",
   "execution_count": null,
   "id": "3409b684",
   "metadata": {},
   "outputs": [],
   "source": []
  }
 ],
 "metadata": {
  "kernelspec": {
   "display_name": "Python 3",
   "language": "python",
   "name": "python3"
  },
  "language_info": {
   "codemirror_mode": {
    "name": "ipython",
    "version": 3
   },
   "file_extension": ".py",
   "mimetype": "text/x-python",
   "name": "python",
   "nbconvert_exporter": "python",
   "pygments_lexer": "ipython3",
   "version": "3.9.6"
  }
 },
 "nbformat": 4,
 "nbformat_minor": 5
}
